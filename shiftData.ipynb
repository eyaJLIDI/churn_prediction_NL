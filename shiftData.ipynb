{
  "nbformat": 4,
  "nbformat_minor": 0,
  "metadata": {
    "colab": {
      "provenance": [],
      "authorship_tag": "ABX9TyPVVWorxkGlqDBYplesaGbi",
      "include_colab_link": true
    },
    "kernelspec": {
      "name": "python3",
      "display_name": "Python 3"
    },
    "language_info": {
      "name": "python"
    }
  },
  "cells": [
    {
      "cell_type": "markdown",
      "metadata": {
        "id": "view-in-github",
        "colab_type": "text"
      },
      "source": [
        "<a href=\"https://colab.research.google.com/github/eyaJLIDI/churn_prediction_NL/blob/main/shiftData.ipynb\" target=\"_parent\"><img src=\"https://colab.research.google.com/assets/colab-badge.svg\" alt=\"Open In Colab\"/></a>"
      ]
    },
    {
      "cell_type": "code",
      "source": [
        "!pip install pyspark"
      ],
      "metadata": {
        "colab": {
          "base_uri": "https://localhost:8080/"
        },
        "id": "VFfFXd_ebU1U",
        "outputId": "757a6bd3-5575-4c6f-ff1c-298cf4acba4f"
      },
      "execution_count": 1,
      "outputs": [
        {
          "output_type": "stream",
          "name": "stdout",
          "text": [
            "Looking in indexes: https://pypi.org/simple, https://us-python.pkg.dev/colab-wheels/public/simple/\n",
            "Collecting pyspark\n",
            "  Downloading pyspark-3.3.1.tar.gz (281.4 MB)\n",
            "\u001b[2K     \u001b[90m━━━━━━━━━━━━━━━━━━━━━━━━━━━━━━━━━━━━━━━\u001b[0m \u001b[32m281.4/281.4 MB\u001b[0m \u001b[31m4.3 MB/s\u001b[0m eta \u001b[36m0:00:00\u001b[0m\n",
            "\u001b[?25h  Preparing metadata (setup.py) ... \u001b[?25l\u001b[?25hdone\n",
            "Collecting py4j==0.10.9.5\n",
            "  Downloading py4j-0.10.9.5-py2.py3-none-any.whl (199 kB)\n",
            "\u001b[2K     \u001b[90m━━━━━━━━━━━━━━━━━━━━━━━━━━━━━━━━━━━━━━\u001b[0m \u001b[32m199.7/199.7 KB\u001b[0m \u001b[31m20.4 MB/s\u001b[0m eta \u001b[36m0:00:00\u001b[0m\n",
            "\u001b[?25hBuilding wheels for collected packages: pyspark\n",
            "  Building wheel for pyspark (setup.py) ... \u001b[?25l\u001b[?25hdone\n",
            "  Created wheel for pyspark: filename=pyspark-3.3.1-py2.py3-none-any.whl size=281845512 sha256=e56c3dde81f7762d322b25c763b60cb5488ef28e271c5d28fa79357f97a3cec7\n",
            "  Stored in directory: /root/.cache/pip/wheels/43/dc/11/ec201cd671da62fa9c5cc77078235e40722170ceba231d7598\n",
            "Successfully built pyspark\n",
            "Installing collected packages: py4j, pyspark\n",
            "Successfully installed py4j-0.10.9.5 pyspark-3.3.1\n"
          ]
        }
      ]
    },
    {
      "cell_type": "code",
      "execution_count": 2,
      "metadata": {
        "id": "4rLnqKlTZ8xC"
      },
      "outputs": [],
      "source": [
        "# import libraries\n",
        "from pyspark.sql import SparkSession\n",
        "from pyspark.sql.functions import udf\n",
        "from pyspark.sql.types import StringType\n",
        "from pyspark.sql.types import IntegerType\n",
        "from pyspark.sql.functions import *\n",
        "from pyspark.sql.functions import monotonically_increasing_id \n",
        "from pyspark.sql import functions as F\n",
        "from pyspark.sql import Window\n",
        "import warnings\n",
        "warnings.simplefilter(action='ignore')\n",
        "from textwrap import wrap\n",
        "import matplotlib.pyplot as plt\n",
        "import numpy as np\n",
        "import pandas as pd\n",
        "pd.set_option('display.max_rows', 500)\n",
        "pd.set_option('display.max_columns', 500)\n",
        "pd.set_option('max_colwidth', 800)\n",
        "import seaborn as sns\n",
        "\n",
        "from sklearn.preprocessing import StandardScaler\n",
        "from pyspark.ml.classification import GBTClassifier, RandomForestClassifier ,  DecisionTreeClassifier , LinearSVC\n",
        "from pyspark.ml.evaluation import MulticlassClassificationEvaluator\n",
        "from pyspark.ml.evaluation import BinaryClassificationEvaluator\n",
        "from pyspark.ml.tuning import CrossValidator, ParamGridBuilder\n",
        "from pyspark.ml.feature import VectorAssembler\n",
        "from pyspark.ml.feature import StandardScaler\n",
        "\n",
        "# create a Spark session\n",
        "spark =  SparkSession \\\n",
        "        .builder \\\n",
        "        .appName(\"NL+ churn prediction\") \\\n",
        "        .getOrCreate()"
      ]
    },
    {
      "cell_type": "code",
      "source": [
        "def shift_data(df_data):\n",
        "  import pyspark.pandas as ps\n",
        "  df = df_data.toPandas()\n",
        "  data = df[['CLT_REF','nombre']].groupby('CLT_REF').mean()\n",
        "  data = data.reset_index()\n",
        "  data.rename(columns = {'nombre': 'trajets_moyen'}, inplace = True)\n",
        "  data = data.merge(df, on='CLT_REF')\n",
        "  data['evol_trajet'] = 0\n",
        "  data.loc[(data['nombre'] > data['trajets_moyen']*2 ) | (data['nombre'] < data['trajets_moyen']*0.5), \"evol_trajet\"] = 1\n",
        "  data[data['evol_trajet'] == 1]\n",
        "  data.drop(columns=['trajets_moyen'],inplace=True)\n",
        "  df_temps = data[['CLT_REF','CHURN','date']].groupby(['CLT_REF'])['CHURN','date'].shift(-1)\n",
        "  df_temps.rename(columns={'CHURN':'CHURN_shift','date':'date_shift'},inplace=True)\n",
        "  data = df_temps.join(data)\n",
        "  data\n",
        "  data.drop(columns=['CHURN','date','date_shift','CLT_REF','card_number'],inplace=True)\n",
        "  data.columns\n",
        "  data.dropna(subset=['CHURN_shift'],inplace=True)\n",
        "  data.fillna(method ='pad',inplace=True)\n",
        "  data.fillna(method ='bfill',inplace=True)\n",
        "  data\n",
        "  return data"
      ],
      "metadata": {
        "id": "a-arTuSrZ_Xo"
      },
      "execution_count": 3,
      "outputs": []
    }
  ]
}