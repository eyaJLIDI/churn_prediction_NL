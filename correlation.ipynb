{
  "nbformat": 4,
  "nbformat_minor": 0,
  "metadata": {
    "colab": {
      "provenance": [],
      "authorship_tag": "ABX9TyOmvCAjRyMsICMfhNhsMHH0",
      "include_colab_link": true
    },
    "kernelspec": {
      "name": "python3",
      "display_name": "Python 3"
    },
    "language_info": {
      "name": "python"
    }
  },
  "cells": [
    {
      "cell_type": "markdown",
      "metadata": {
        "id": "view-in-github",
        "colab_type": "text"
      },
      "source": [
        "<a href=\"https://colab.research.google.com/github/eyaJLIDI/churn_prediction_NL/blob/main/correlation.ipynb\" target=\"_parent\"><img src=\"https://colab.research.google.com/assets/colab-badge.svg\" alt=\"Open In Colab\"/></a>"
      ]
    },
    {
      "cell_type": "code",
      "source": [
        "!pip install pyspark"
      ],
      "metadata": {
        "colab": {
          "base_uri": "https://localhost:8080/"
        },
        "id": "NawavPtTfSyD",
        "outputId": "6340510d-6ee6-438f-8ede-eea8e29ce0e6"
      },
      "execution_count": 1,
      "outputs": [
        {
          "output_type": "stream",
          "name": "stdout",
          "text": [
            "Looking in indexes: https://pypi.org/simple, https://us-python.pkg.dev/colab-wheels/public/simple/\n",
            "Collecting pyspark\n",
            "  Downloading pyspark-3.3.1.tar.gz (281.4 MB)\n",
            "\u001b[2K     \u001b[90m━━━━━━━━━━━━━━━━━━━━━━━━━━━━━━━━━━━━━━━\u001b[0m \u001b[32m281.4/281.4 MB\u001b[0m \u001b[31m4.4 MB/s\u001b[0m eta \u001b[36m0:00:00\u001b[0m\n",
            "\u001b[?25h  Preparing metadata (setup.py) ... \u001b[?25l\u001b[?25hdone\n",
            "Collecting py4j==0.10.9.5\n",
            "  Downloading py4j-0.10.9.5-py2.py3-none-any.whl (199 kB)\n",
            "\u001b[2K     \u001b[90m━━━━━━━━━━━━━━━━━━━━━━━━━━━━━━━━━━━━━━\u001b[0m \u001b[32m199.7/199.7 KB\u001b[0m \u001b[31m22.7 MB/s\u001b[0m eta \u001b[36m0:00:00\u001b[0m\n",
            "\u001b[?25hBuilding wheels for collected packages: pyspark\n",
            "  Building wheel for pyspark (setup.py) ... \u001b[?25l\u001b[?25hdone\n",
            "  Created wheel for pyspark: filename=pyspark-3.3.1-py2.py3-none-any.whl size=281845512 sha256=073b1280d520f5ca27673c89403dff3b3c11ed1d547ef1c4ecd925d9ff6b4ac5\n",
            "  Stored in directory: /root/.cache/pip/wheels/43/dc/11/ec201cd671da62fa9c5cc77078235e40722170ceba231d7598\n",
            "Successfully built pyspark\n",
            "Installing collected packages: py4j, pyspark\n",
            "Successfully installed py4j-0.10.9.5 pyspark-3.3.1\n"
          ]
        }
      ]
    },
    {
      "cell_type": "code",
      "source": [
        "# import libraries\n",
        "from pyspark.sql import SparkSession\n",
        "from pyspark.sql.functions import udf\n",
        "from pyspark.sql.types import StringType\n",
        "from pyspark.sql.types import IntegerType\n",
        "from pyspark.sql.functions import *\n",
        "from pyspark.sql.functions import monotonically_increasing_id \n",
        "from pyspark.sql import functions as F\n",
        "from pyspark.sql import Window\n",
        "import warnings\n",
        "warnings.simplefilter(action='ignore')\n",
        "from textwrap import wrap\n",
        "import matplotlib.pyplot as plt\n",
        "import numpy as np\n",
        "import pandas as pd\n",
        "pd.set_option('display.max_rows', 500)\n",
        "pd.set_option('display.max_columns', 500)\n",
        "pd.set_option('max_colwidth', 800)\n",
        "import seaborn as sns\n",
        "\n",
        "from sklearn.preprocessing import StandardScaler\n",
        "from pyspark.ml.classification import GBTClassifier, RandomForestClassifier ,  DecisionTreeClassifier , LinearSVC\n",
        "from pyspark.ml.evaluation import MulticlassClassificationEvaluator\n",
        "from pyspark.ml.evaluation import BinaryClassificationEvaluator\n",
        "from pyspark.ml.tuning import CrossValidator, ParamGridBuilder\n",
        "from pyspark.ml.feature import VectorAssembler\n",
        "from pyspark.ml.feature import StandardScaler\n",
        "\n",
        "# create a Spark session\n",
        "spark =  SparkSession \\\n",
        "        .builder \\\n",
        "        .appName(\"NL+ churn prediction\") \\\n",
        "        .getOrCreate()"
      ],
      "metadata": {
        "id": "kDDBJY006UJC"
      },
      "execution_count": 2,
      "outputs": []
    },
    {
      "cell_type": "code",
      "execution_count": 3,
      "metadata": {
        "id": "24OkvQwP4_xE"
      },
      "outputs": [],
      "source": [
        "def correlation(df_data):\n",
        "  print(\"start correlation\")\n",
        "  from pyspark.ml.feature import OneHotEncoder, StringIndexer, VectorAssembler\n",
        "  from pyspark.ml.stat import Correlation\n",
        "  df_data = df_data.na.fill(\"unknown\")\n",
        "  df_corr = df_data.select(\"*\")\n",
        "  categorical_columns = [c for c, t in df_corr.dtypes if t =='string' ]\n",
        "  print(categorical_columns)\n",
        "  df_corr = df_corr.drop('DATE_DEBUT','DATE_FIN','date')\n",
        "  indexer = StringIndexer(inputCols=['PROFIL_IMPAYE', 'SEXE', 'CLT_SOLLICITATION_IND', 'PROFIL_TARIFAIRE17', 'MEDIA', 'CLT_SOLLICITATION_IDFM_IND', 'TYPE_RESIL', 'ACTEUR_RESIL', 'CHURN', 'profil_tarifaire46'],outputCols=['PROFIL_IMPAYE_index', 'SEXE_index', 'CLT_SOLLICITATION_IND_index', 'PROFIL_TARIFAIRE17_index', 'MEDIA_index', 'CLT_SOLLICITATION_IDFM_IND_index', 'TYPE_RESIL_index', 'ACTEUR_RESIL_index', 'CHURN_index', 'profil_tarifaire46_index'])\n",
        "  indexed = indexer.fit(df_corr).transform(df_corr)\n",
        "  indexed.printSchema()\n",
        "  indexed = indexed.drop('PROFIL_IMPAYE', 'SEXE', 'CLT_SOLLICITATION_IND', 'PROFIL_TARIFAIRE17', 'MEDIA', 'CLT_SOLLICITATION_IDFM_IND', 'TYPE_RESIL', 'ACTEUR_RESIL', 'CHURN', 'profil_tarifaire46')\n",
        "  indexed.show(100)\n",
        "  # convert to vector column first\n",
        "  vector_col = \"corr_features\"\n",
        "  assembler2 = VectorAssembler(inputCols=indexed.columns, outputCol=vector_col)\n",
        "  indexed_vector = assembler2.transform(indexed).select(vector_col)\n",
        "  matrix = Correlation.corr(indexed_vector, vector_col).collect()[0][0]\n",
        "  corrmatrix = matrix.toArray().tolist()\n",
        "  print(corrmatrix)\n",
        "  Columns = ['CLT_REF', 'card_number', 'AGE', 'NOMBRE_CONTRAT_IR_SCO','NOMBRE_CONTRAT_IR_ETU', 'NOMBRE_CONTRAT_NA', 'NOMBRE_CONTRAT_NMS','NOMBRE_GRAT', 'NOMBRE_SOL', 'NOMBRE_AME', 'ADR_CODE_POSTAL','PORTEUR_PAYEUR', 'PROFIL_IMPAYE', 'SEXE', 'CLT_SOLLICITATION_IND', 'PROFIL_TARIFAIRE17', 'CLT_SEL_IND', 'MEDIA',\n",
        "       'CLT_SOLLICITATION_IDFM_IND', 'TYPE_RESIL', 'ACTEUR_RESIL', 'MONTANT23',\n",
        "       'ANCIENNETE_NLP', 'CONTRATS_PRECEDENTS', 'CHURN',\n",
        "       'NOMBRE_DEPT_RESIDENCE_MOIS', 'DT_MEAN', 'ECART_TYPE',\n",
        "       'VOL_INTERACTION', 'VOL_EVT', 'performance', 'VOL_EVT_SIMPLE',\n",
        "       'VOL_INTERACTION_SIMPLE', 'DT_MEAN_SIMPLE', 'VOL_EVT_STANDARD',\n",
        "       'VOL_INTERACTION_STANDARD', 'DT_MEAN_STANDARD', 'VOL_EVT_COMPLIQUE',\n",
        "       'VOL_INTERACTION_COMPLIQUE', 'DT_MEAN_COMPLIQUE', 'VOL_EVT_BLOQ',\n",
        "       'VOL_INTERACTION_BLOQ', 'DT_MEAN_BLOQ', 'date', 'profil_tarifaire46',\n",
        "       'nombre', 'montant48', 'montant_offert']\n",
        "  import pyspark.pandas as ps\n",
        "  df = df_data.toPandas()\n",
        "  plt.figure(figsize=(20, 15))\n",
        "  sns.heatmap(df.corr(method='pearson'), vmin=-1, vmax=1, annot=True)\n",
        "  df = df.drop([\"performance\",\"VOL_EVT\",\"DT_MEAN\",\"VOL_INTERACTION\",\"VOL_INTERACTION_SIMPLE\",\"DATE_DEBUT\",\"DATE_FIN\"],axis=1)\n",
        "  df = df.drop(['VOL_EVT_SIMPLE',\n",
        "       'DT_MEAN_SIMPLE', 'VOL_EVT_STANDARD', 'VOL_INTERACTION_STANDARD',\n",
        "       'DT_MEAN_STANDARD','ECART_TYPE'],axis=1)\n",
        "  print(\"end correlation\")\n",
        "  return df"
      ]
    },
    {
      "cell_type": "code",
      "source": [],
      "metadata": {
        "id": "9nxZpPzm6tZi"
      },
      "execution_count": 3,
      "outputs": []
    }
  ]
}